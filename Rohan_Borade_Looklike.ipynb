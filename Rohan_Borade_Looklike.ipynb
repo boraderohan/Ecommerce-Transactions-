{
 "cells": [
  {
   "cell_type": "code",
   "execution_count": 1,
   "id": "54b8430c-ddb7-4b20-9c18-7c4965980276",
   "metadata": {},
   "outputs": [],
   "source": [
    "import pandas as pd\n",
    "from sklearn.metrics.pairwise import cosine_similarity\n",
    "from sklearn.preprocessing import StandardScaler"
   ]
  },
  {
   "cell_type": "code",
   "execution_count": 2,
   "id": "739217e8-f603-4d2f-b5c9-03b374c042de",
   "metadata": {},
   "outputs": [],
   "source": [
    "customers = pd.read_csv('Customers.csv')\n",
    "transactions = pd.read_csv('Transactions.csv')\n",
    "products = pd.read_csv('Products.csv')"
   ]
  },
  {
   "cell_type": "code",
   "execution_count": 3,
   "id": "5876d35c-4668-4349-a9f9-cf0333f57660",
   "metadata": {},
   "outputs": [
    {
     "data": {
      "text/plain": [
       "CustomerID      object\n",
       "CustomerName    object\n",
       "Region          object\n",
       "SignupDate      object\n",
       "dtype: object"
      ]
     },
     "execution_count": 3,
     "metadata": {},
     "output_type": "execute_result"
    }
   ],
   "source": [
    "customers.dtypes"
   ]
  },
  {
   "cell_type": "code",
   "execution_count": 4,
   "id": "8fa4aa7c-f7a4-4276-80b4-2a3ca75ed90a",
   "metadata": {},
   "outputs": [
    {
     "data": {
      "text/plain": [
       "ProductID       object\n",
       "ProductName     object\n",
       "Category        object\n",
       "Price          float64\n",
       "dtype: object"
      ]
     },
     "execution_count": 4,
     "metadata": {},
     "output_type": "execute_result"
    }
   ],
   "source": [
    "products.dtypes"
   ]
  },
  {
   "cell_type": "code",
   "execution_count": 5,
   "id": "cb4b8759-45fa-46a8-ab58-8a22a0ed4239",
   "metadata": {},
   "outputs": [
    {
     "data": {
      "text/plain": [
       "TransactionID       object\n",
       "CustomerID          object\n",
       "ProductID           object\n",
       "TransactionDate     object\n",
       "Quantity             int64\n",
       "TotalValue         float64\n",
       "Price              float64\n",
       "dtype: object"
      ]
     },
     "execution_count": 5,
     "metadata": {},
     "output_type": "execute_result"
    }
   ],
   "source": [
    "transactions.dtypes"
   ]
  },
  {
   "cell_type": "code",
   "execution_count": 6,
   "id": "986efea5-a54c-42d6-9bf9-cb7a2a73471d",
   "metadata": {},
   "outputs": [],
   "source": [
    "pd.set_option('display.max_rows', 1000)"
   ]
  },
  {
   "cell_type": "code",
   "execution_count": 7,
   "id": "8e8cb2a6-6f6c-4ecf-ba73-8c03442b8369",
   "metadata": {},
   "outputs": [
    {
     "name": "stdout",
     "output_type": "stream",
     "text": [
      "Customer Info:\n",
      "<class 'pandas.core.frame.DataFrame'>\n",
      "RangeIndex: 200 entries, 0 to 199\n",
      "Data columns (total 4 columns):\n",
      " #   Column        Non-Null Count  Dtype \n",
      "---  ------        --------------  ----- \n",
      " 0   CustomerID    200 non-null    object\n",
      " 1   CustomerName  200 non-null    object\n",
      " 2   Region        200 non-null    object\n",
      " 3   SignupDate    200 non-null    object\n",
      "dtypes: object(4)\n",
      "memory usage: 6.4+ KB\n"
     ]
    }
   ],
   "source": [
    "# Basic Information\n",
    "print('Customer Info:')\n",
    "customers.info()"
   ]
  },
  {
   "cell_type": "code",
   "execution_count": 8,
   "id": "3bcfb4b7-019e-46b1-9f34-5c29b0b96370",
   "metadata": {},
   "outputs": [
    {
     "name": "stdout",
     "output_type": "stream",
     "text": [
      "Product Info:\n",
      "<class 'pandas.core.frame.DataFrame'>\n",
      "RangeIndex: 100 entries, 0 to 99\n",
      "Data columns (total 4 columns):\n",
      " #   Column       Non-Null Count  Dtype  \n",
      "---  ------       --------------  -----  \n",
      " 0   ProductID    100 non-null    object \n",
      " 1   ProductName  100 non-null    object \n",
      " 2   Category     100 non-null    object \n",
      " 3   Price        100 non-null    float64\n",
      "dtypes: float64(1), object(3)\n",
      "memory usage: 3.3+ KB\n"
     ]
    }
   ],
   "source": [
    "print('Product Info:')\n",
    "products.info()"
   ]
  },
  {
   "cell_type": "code",
   "execution_count": 9,
   "id": "acd5c900-ea79-4ad4-a19e-e08f21e1c056",
   "metadata": {},
   "outputs": [
    {
     "name": "stdout",
     "output_type": "stream",
     "text": [
      "Transactions Info:\n",
      "<class 'pandas.core.frame.DataFrame'>\n",
      "RangeIndex: 1000 entries, 0 to 999\n",
      "Data columns (total 7 columns):\n",
      " #   Column           Non-Null Count  Dtype  \n",
      "---  ------           --------------  -----  \n",
      " 0   TransactionID    1000 non-null   object \n",
      " 1   CustomerID       1000 non-null   object \n",
      " 2   ProductID        1000 non-null   object \n",
      " 3   TransactionDate  1000 non-null   object \n",
      " 4   Quantity         1000 non-null   int64  \n",
      " 5   TotalValue       1000 non-null   float64\n",
      " 6   Price            1000 non-null   float64\n",
      "dtypes: float64(2), int64(1), object(4)\n",
      "memory usage: 54.8+ KB\n"
     ]
    }
   ],
   "source": [
    "print('Transactions Info:')\n",
    "transactions.info()"
   ]
  },
  {
   "cell_type": "code",
   "execution_count": 10,
   "id": "c11b7db3-8529-4bd5-896c-38a5e77e7ec9",
   "metadata": {},
   "outputs": [
    {
     "name": "stdout",
     "output_type": "stream",
     "text": [
      "\n",
      " Missing values in Customers: \n",
      " CustomerID      0\n",
      "CustomerName    0\n",
      "Region          0\n",
      "SignupDate      0\n",
      "dtype: int64\n",
      "\n",
      " Missing values in Products: \n",
      " ProductID      0\n",
      "ProductName    0\n",
      "Category       0\n",
      "Price          0\n",
      "dtype: int64\n",
      "\n",
      " Missing valus in Transacions \n",
      " TransactionID      0\n",
      "CustomerID         0\n",
      "ProductID          0\n",
      "TransactionDate    0\n",
      "Quantity           0\n",
      "TotalValue         0\n",
      "Price              0\n",
      "dtype: int64\n"
     ]
    }
   ],
   "source": [
    "# Checking for missing values\n",
    "print(\"\\n Missing values in Customers: \\n\", customers.isnull().sum())\n",
    "print(\"\\n Missing values in Products: \\n\", products.isnull().sum())\n",
    "print(\"\\n Missing valus in Transacions \\n\", transactions.isnull().sum())"
   ]
  },
  {
   "cell_type": "code",
   "execution_count": 12,
   "id": "707ad34b-994c-44ac-99fb-60763d83b2bf",
   "metadata": {},
   "outputs": [
    {
     "name": "stdout",
     "output_type": "stream",
     "text": [
      "\n",
      " Customers Statistics: \n",
      "        CustomerID      CustomerName         Region  SignupDate\n",
      "count         200               200            200         200\n",
      "unique        200               200              4         179\n",
      "top         C0001  Lawrence Carroll  South America  2024-11-11\n",
      "freq            1                 1             59           3\n",
      "\n",
      " Products Statistics: \n",
      "             Price\n",
      "count  100.000000\n",
      "mean   267.551700\n",
      "std    143.219383\n",
      "min     16.080000\n",
      "25%    147.767500\n",
      "50%    292.875000\n",
      "75%    397.090000\n",
      "max    497.760000\n",
      "\n",
      " Transactions Statistics:\n",
      "           Quantity   TotalValue       Price\n",
      "count  1000.000000  1000.000000  1000.00000\n",
      "mean      2.537000   689.995560   272.55407\n",
      "std       1.117981   493.144478   140.73639\n",
      "min       1.000000    16.080000    16.08000\n",
      "25%       2.000000   295.295000   147.95000\n",
      "50%       3.000000   588.880000   299.93000\n",
      "75%       4.000000  1011.660000   404.40000\n",
      "max       4.000000  1991.040000   497.76000\n"
     ]
    }
   ],
   "source": [
    "# Descriptive statistics\n",
    "print('\\n Customers Statistics: \\n', customers.describe())\n",
    "print('\\n Products Statistics: \\n', products.describe())\n",
    "print('\\n Transactions Statistics:\\n', transactions.describe())"
   ]
  },
  {
   "cell_type": "code",
   "execution_count": 13,
   "id": "5eb87923-5fc2-4a60-a830-4afdaec15608",
   "metadata": {},
   "outputs": [],
   "source": [
    "# Data preprocessing\n",
    "transactions = transactions.merge(products, on = \"ProductID\", how = \"left\")\n"
   ]
  },
  {
   "cell_type": "code",
   "execution_count": 25,
   "id": "0911ea6a-6ecd-4286-a0df-2d1a6d323d39",
   "metadata": {},
   "outputs": [],
   "source": [
    "# Calculate TransactionAmount using Quantity and Price_x\n",
    "if 'TransactionAmount' not in transactions.columns:\n",
    "    if 'Quantity' in transactions.columns and 'Price_x' in transactions.columns:\n",
    "        transactions['TransactionAmount'] = transactions['Quantity'] * transactions['Price_x']\n",
    "    else:\n",
    "        raise KeyError(\"Columns required to compute 'TransactionAmount' are missing (e.g., 'Quantity' and 'Price_x').\")"
   ]
  },
  {
   "cell_type": "code",
   "execution_count": 26,
   "id": "bf697f1f-674f-4d6f-9392-3a94df5403c4",
   "metadata": {},
   "outputs": [],
   "source": [
    "# Aggregate transaction data to get customer-level features\n",
    "customer_transactions = transactions.groupby(\"CustomerID\").agg({\n",
    "    \"ProductID\": \"count\",  # Number of products purchased\n",
    "    \"TransactionAmount\": \"sum\",  # Total amount spent\n",
    "    \"Category\": lambda x: x.mode()[0] if not x.mode().empty else None  # Most purchased category\n",
    "}).reset_index()\n",
    "customer_transactions.rename(columns={\"ProductID\": \"TotalPurchases\", \"TransactionAmount\": \"TotalSpent\"}, inplace=True)"
   ]
  },
  {
   "cell_type": "code",
   "execution_count": 27,
   "id": "76babe0e-e6f9-4a1b-809e-9f33ecacb36e",
   "metadata": {},
   "outputs": [],
   "source": [
    "# Merge customer profiles with transaction features\n",
    "customer_data = customers.merge(customer_transactions, on=\"CustomerID\", how=\"left\")"
   ]
  },
  {
   "cell_type": "code",
   "execution_count": 28,
   "id": "0d1e28b8-8526-4eb8-add3-a26e434e9b38",
   "metadata": {},
   "outputs": [],
   "source": [
    "# Fill missing values\n",
    "customer_data.fillna({\"TotalPurchases\": 0, \"TotalSpent\": 0, \"Category\": \"Unknown\"}, inplace=True)"
   ]
  },
  {
   "cell_type": "code",
   "execution_count": 29,
   "id": "c46ebb16-bfbd-471b-8e25-5d5d035031cb",
   "metadata": {},
   "outputs": [],
   "source": [
    "# Encode categorical features (e.g., Category)\n",
    "customer_data = pd.get_dummies(customer_data, columns=[\"Category\"], drop_first=True)"
   ]
  },
  {
   "cell_type": "code",
   "execution_count": 32,
   "id": "15f9a3c4-cb94-4e8c-bf19-60a448b2688b",
   "metadata": {},
   "outputs": [
    {
     "name": "stdout",
     "output_type": "stream",
     "text": [
      "Columns 'Age' and/or 'Income' are missing. Defaulting to available features.\n"
     ]
    }
   ],
   "source": [
    "# Step 2: Similarity computation\n",
    "# Verify that Age and Income columns exist before proceeding\n",
    "if 'Age' not in customer_data.columns or 'Income' not in customer_data.columns:\n",
    "    print(\"Columns 'Age' and/or 'Income' are missing. Defaulting to available features.\")\n",
    "    numeric_features = [col for col in [\"TotalPurchases\", \"TotalSpent\"] if col in customer_data.columns]\n",
    "else:\n",
    "    numeric_features = [\"Age\", \"Income\", \"TotalPurchases\", \"TotalSpent\"]\n"
   ]
  },
  {
   "cell_type": "code",
   "execution_count": 33,
   "id": "fbe44af2-9afa-440a-ae6c-99a7c097f506",
   "metadata": {},
   "outputs": [],
   "source": [
    "# Standardize numeric features\n",
    "scaler = StandardScaler()\n",
    "customer_data[numeric_features] = scaler.fit_transform(customer_data[numeric_features])\n"
   ]
  },
  {
   "cell_type": "code",
   "execution_count": 34,
   "id": "f22f2bf8-982c-4d2d-a6eb-a8c7b6bc04fd",
   "metadata": {},
   "outputs": [],
   "source": [
    "# Compute similarity matrix\n",
    "similarity_matrix = cosine_similarity(customer_data[numeric_features])\n"
   ]
  },
  {
   "cell_type": "code",
   "execution_count": 35,
   "id": "5841bb68-61f0-4c76-a487-c34a4c956f7e",
   "metadata": {},
   "outputs": [],
   "source": [
    "# Step 3: Generate lookalikes for the first 20 customers\n",
    "lookalike_map = {}\n",
    "for i, customer_id in enumerate(customer_data[\"CustomerID\"][:20]):\n",
    "    similarity_scores = list(enumerate(similarity_matrix[i]))\n",
    "    similarity_scores = sorted(similarity_scores, key=lambda x: x[1], reverse=True)\n",
    "    top_3 = [(customer_data.iloc[j][\"CustomerID\"], score) for j, score in similarity_scores[1:4]]\n",
    "    lookalike_map[customer_id] = top_3\n"
   ]
  },
  {
   "cell_type": "code",
   "execution_count": 37,
   "id": "e884a925-83a9-4816-bbe7-588a68d6545e",
   "metadata": {},
   "outputs": [],
   "source": [
    "from sklearn.model_selection import train_test_split\n",
    "# Split data into train-test sets\n",
    "train_customers, test_customers = train_test_split(customer_data, test_size=0.2, random_state=42)\n"
   ]
  },
  {
   "cell_type": "code",
   "execution_count": 38,
   "id": "94df5328-804d-4bfc-8ee3-28810f4fc97b",
   "metadata": {},
   "outputs": [],
   "source": [
    "# Generate lookalikes for test customers\n",
    "def generate_lookalikes(customer_id, similarity_matrix, customer_data, top_n=3):\n",
    "    idx = customer_data.index[customer_data['CustomerID'] == customer_id][0]\n",
    "    similarity_scores = list(enumerate(similarity_matrix[idx]))\n",
    "    similarity_scores = sorted(similarity_scores, key=lambda x: x[1], reverse=True)\n",
    "    return [(customer_data.iloc[j][\"CustomerID\"], round(score, 4)) for j, score in similarity_scores[1:top_n+1]]\n"
   ]
  },
  {
   "cell_type": "code",
   "execution_count": 39,
   "id": "81f38705-059e-405e-b268-1bebdec95862",
   "metadata": {},
   "outputs": [],
   "source": [
    "lookalike_map = {}\n",
    "for customer_id in test_customers[\"CustomerID\"]:\n",
    "    lookalike_map[customer_id] = generate_lookalikes(customer_id, similarity_matrix, customer_data)\n"
   ]
  },
  {
   "cell_type": "code",
   "execution_count": 40,
   "id": "8e3ca30b-0a14-4de4-8d7a-62a611e48930",
   "metadata": {},
   "outputs": [],
   "source": [
    "# Step 4: Quality metrics\n",
    "# Mean similarity scores for recommendations\n",
    "mean_similarity = sum(\n",
    "    [score for lookalikes in lookalike_map.values() for _, score in lookalikes]\n",
    ") / (len(lookalike_map) * 3)"
   ]
  },
  {
   "cell_type": "code",
   "execution_count": 41,
   "id": "a189a92c-4ee0-4115-97f3-f292efe8c258",
   "metadata": {},
   "outputs": [],
   "source": [
    "# Coverage\n",
    "coverage = len(lookalike_map) / len(test_customers)\n",
    "\n",
    "# Diversity (number of unique customers in recommendations)\n",
    "unique_recommendations = len(set([rec[0] for lookalikes in lookalike_map.values() for rec in lookalikes]))"
   ]
  },
  {
   "cell_type": "code",
   "execution_count": 42,
   "id": "4ebcb093-1564-446b-a7fc-027df508a998",
   "metadata": {},
   "outputs": [
    {
     "name": "stdout",
     "output_type": "stream",
     "text": [
      "Mean Similarity Score: 0.9966\n",
      "Recommendation Coverage: 100.00%\n",
      "Diversity of Recommendations: 76\n"
     ]
    }
   ],
   "source": [
    "# Output results\n",
    "print(f\"Mean Similarity Score: {mean_similarity:.4f}\")\n",
    "print(f\"Recommendation Coverage: {coverage:.2%}\")\n",
    "print(f\"Diversity of Recommendations: {unique_recommendations}\")"
   ]
  },
  {
   "cell_type": "code",
   "execution_count": 44,
   "id": "84ef8fab-1ff6-4f75-a9aa-5ba308924487",
   "metadata": {},
   "outputs": [
    {
     "name": "stdout",
     "output_type": "stream",
     "text": [
      "Evaluation completed. Results saved in Lookalike_Evaluation.csv.\n"
     ]
    }
   ],
   "source": [
    "# Step 5: Save results for further manual inspection\n",
    "lookalike_df = pd.DataFrame({\n",
    "    \"CustomerID\": list(lookalike_map.keys()),\n",
    "    \"Lookalikes\": [str(lookalikes) for lookalikes in lookalike_map.values()]\n",
    "})\n",
    "lookalike_df.to_csv(\"Looklike.csv\", index=False)\n",
    "\n",
    "print(\"Evaluation completed. Results saved in Lookalike_Evaluation.csv.\")"
   ]
  },
  {
   "cell_type": "code",
   "execution_count": null,
   "id": "7342bb59-6c94-4a58-866d-b9a44e6a7b28",
   "metadata": {},
   "outputs": [],
   "source": []
  },
  {
   "cell_type": "code",
   "execution_count": null,
   "id": "aee03d9d-34b3-4ff3-9cca-48c461e33407",
   "metadata": {},
   "outputs": [],
   "source": []
  },
  {
   "cell_type": "code",
   "execution_count": null,
   "id": "8b7a3a59-a424-42ab-b9c6-bdfa4a04010f",
   "metadata": {},
   "outputs": [],
   "source": []
  },
  {
   "cell_type": "code",
   "execution_count": null,
   "id": "b8071703-0071-49e9-a66c-73accd57af37",
   "metadata": {},
   "outputs": [],
   "source": []
  },
  {
   "cell_type": "code",
   "execution_count": null,
   "id": "ea1a6358-641a-40f2-b301-9d3664f958a8",
   "metadata": {},
   "outputs": [],
   "source": []
  },
  {
   "cell_type": "code",
   "execution_count": null,
   "id": "a0f8e6f6-04b7-4b60-908a-0a7bfcdba27f",
   "metadata": {},
   "outputs": [],
   "source": []
  },
  {
   "cell_type": "code",
   "execution_count": null,
   "id": "d86c0d29-3c01-46f0-a75f-d0f39c41f234",
   "metadata": {},
   "outputs": [],
   "source": []
  }
 ],
 "metadata": {
  "kernelspec": {
   "display_name": "Python 3 (ipykernel)",
   "language": "python",
   "name": "python3"
  },
  "language_info": {
   "codemirror_mode": {
    "name": "ipython",
    "version": 3
   },
   "file_extension": ".py",
   "mimetype": "text/x-python",
   "name": "python",
   "nbconvert_exporter": "python",
   "pygments_lexer": "ipython3",
   "version": "3.11.7"
  }
 },
 "nbformat": 4,
 "nbformat_minor": 5
}
